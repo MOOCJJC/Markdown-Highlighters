{
 "cells": [
  {
   "cell_type": "code",
   "execution_count": 1,
   "metadata": {},
   "outputs": [],
   "source": [
    "from PIL import Image, ImageDraw, ImageFont\n",
    "import matplotlib.colors as mcolors\n",
    "import os"
   ]
  },
  {
   "cell_type": "code",
   "execution_count": 20,
   "metadata": {},
   "outputs": [],
   "source": [
    "def high_contrast_color(bg_color):\n",
    "    \"\"\"Calculate high contrast color (black or white) for the given background color.\"\"\"\n",
    "    r, g, b = int(bg_color[1:3], 16), int(bg_color[3:5], 16), int(bg_color[5:7], 16)\n",
    "    luminance = 0.299 * r + 0.587 * g + 0.114 * b\n",
    "    return '#FFFFFF' if luminance < 128 else '#000000'\n",
    "\n",
    "def create_image_with_text(bg_color_name, bg_hex_code):\n",
    "    \"\"\"Create an image with text, background color, and save it as a PNG file.\"\"\"\n",
    "    text_color = high_contrast_color(bg_hex_code)\n",
    "    img = Image.new('RGB', (200, 50), bg_hex_code)\n",
    "    draw = ImageDraw.Draw(img)\n",
    "    try:\n",
    "        font = ImageFont.truetype(\"arial.ttf\", 25)  # Arial font\n",
    "    except IOError:\n",
    "        font = ImageFont.load_default()\n",
    "    text = bg_color_name\n",
    "    text_width = draw.textlength(text, font=font)  # Correct method to get text width\n",
    "    text_height = font.getbbox(text)[3] - font.getbbox(text)[1]  # Correct method to get text height\n",
    "    draw.text(((200 - text_width) / 2, (50 - text_height) / 2), text, fill=text_color, font=font)\n",
    "    img.save(f'color_images/{bg_color_name}.png')\n",
    "\n"
   ]
  },
  {
   "cell_type": "code",
   "execution_count": 22,
   "metadata": {},
   "outputs": [
    {
     "name": "stdout",
     "output_type": "stream",
     "text": [
      "Saved aliceblue.png\n",
      "Saved antiquewhite.png\n",
      "Saved aqua.png\n",
      "Saved aquamarine.png\n",
      "Saved azure.png\n",
      "Saved beige.png\n",
      "Saved bisque.png\n",
      "Saved black.png\n",
      "Saved blanchedalmond.png\n",
      "Saved blue.png\n",
      "Saved blueviolet.png\n",
      "Saved brown.png\n",
      "Saved burlywood.png\n",
      "Saved cadetblue.png\n",
      "Saved chartreuse.png\n",
      "Saved chocolate.png\n",
      "Saved coral.png\n",
      "Saved cornflowerblue.png\n",
      "Saved cornsilk.png\n",
      "Saved crimson.png\n",
      "Saved cyan.png\n",
      "Saved darkblue.png\n",
      "Saved darkcyan.png\n",
      "Saved darkgoldenrod.png\n",
      "Saved darkgray.png\n",
      "Saved darkgreen.png\n",
      "Saved darkgrey.png\n",
      "Saved darkkhaki.png\n",
      "Saved darkmagenta.png\n",
      "Saved darkolivegreen.png\n",
      "Saved darkorange.png\n",
      "Saved darkorchid.png\n",
      "Saved darkred.png\n",
      "Saved darksalmon.png\n",
      "Saved darkseagreen.png\n",
      "Saved darkslateblue.png\n",
      "Saved darkslategray.png\n",
      "Saved darkslategrey.png\n",
      "Saved darkturquoise.png\n",
      "Saved darkviolet.png\n",
      "Saved deeppink.png\n",
      "Saved deepskyblue.png\n",
      "Saved dimgray.png\n",
      "Saved dimgrey.png\n",
      "Saved dodgerblue.png\n",
      "Saved firebrick.png\n",
      "Saved floralwhite.png\n",
      "Saved forestgreen.png\n",
      "Saved fuchsia.png\n",
      "Saved gainsboro.png\n",
      "Saved ghostwhite.png\n",
      "Saved gold.png\n",
      "Saved goldenrod.png\n",
      "Saved gray.png\n",
      "Saved green.png\n",
      "Saved greenyellow.png\n",
      "Saved grey.png\n",
      "Saved honeydew.png\n",
      "Saved hotpink.png\n",
      "Saved indianred.png\n",
      "Saved indigo.png\n",
      "Saved ivory.png\n",
      "Saved khaki.png\n",
      "Saved lavender.png\n",
      "Saved lavenderblush.png\n",
      "Saved lawngreen.png\n",
      "Saved lemonchiffon.png\n",
      "Saved lightblue.png\n",
      "Saved lightcoral.png\n",
      "Saved lightcyan.png\n",
      "Saved lightgoldenrodyellow.png\n",
      "Saved lightgray.png\n",
      "Saved lightgreen.png\n",
      "Saved lightgrey.png\n",
      "Saved lightpink.png\n",
      "Saved lightsalmon.png\n",
      "Saved lightseagreen.png\n",
      "Saved lightskyblue.png\n",
      "Saved lightslategray.png\n",
      "Saved lightslategrey.png\n",
      "Saved lightsteelblue.png\n",
      "Saved lightyellow.png\n",
      "Saved lime.png\n",
      "Saved limegreen.png\n",
      "Saved linen.png\n",
      "Saved magenta.png\n",
      "Saved maroon.png\n",
      "Saved mediumaquamarine.png\n",
      "Saved mediumblue.png\n",
      "Saved mediumorchid.png\n",
      "Saved mediumpurple.png\n",
      "Saved mediumseagreen.png\n",
      "Saved mediumslateblue.png\n",
      "Saved mediumspringgreen.png\n",
      "Saved mediumturquoise.png\n",
      "Saved mediumvioletred.png\n",
      "Saved midnightblue.png\n",
      "Saved mintcream.png\n",
      "Saved mistyrose.png\n",
      "Saved moccasin.png\n"
     ]
    }
   ],
   "source": [
    "output_dir = 'color_images'\n",
    "os.makedirs(output_dir, exist_ok=True)\n",
    "colors = list(mcolors.CSS4_COLORS.items())\n",
    "for name, hex_code in colors[:100]:  # Modify this slice for more or fewer colors\n",
    "    create_image_with_text(name, hex_code)\n",
    "    print(f\"Saved {name}.png\")\n",
    "\n"
   ]
  },
  {
   "cell_type": "code",
   "execution_count": 15,
   "metadata": {},
   "outputs": [
    {
     "data": {
      "text/plain": [
       "'c:\\\\Users\\\\write\\\\AppData\\\\Local\\\\Programs\\\\Microsoft VS Code'"
      ]
     },
     "execution_count": 15,
     "metadata": {},
     "output_type": "execute_result"
    }
   ],
   "source": [
    "os.getcwd()"
   ]
  }
 ],
 "metadata": {
  "kernelspec": {
   "display_name": "Jiajun-STAT689",
   "language": "python",
   "name": "python3"
  },
  "language_info": {
   "codemirror_mode": {
    "name": "ipython",
    "version": 3
   },
   "file_extension": ".py",
   "mimetype": "text/x-python",
   "name": "python",
   "nbconvert_exporter": "python",
   "pygments_lexer": "ipython3",
   "version": "3.9.16"
  }
 },
 "nbformat": 4,
 "nbformat_minor": 2
}
